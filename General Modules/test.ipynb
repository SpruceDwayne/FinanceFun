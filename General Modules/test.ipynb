{
 "cells": [
  {
   "cell_type": "code",
   "execution_count": 1,
   "metadata": {},
   "outputs": [],
   "source": [
    "include(\"CVaR_functions.jl\")\n",
    "using .CVaR_functions\n",
    "using LinearAlgebra\n",
    "using Statistics\n",
    "using SparseArrays"
   ]
  },
  {
   "cell_type": "code",
   "execution_count": 2,
   "metadata": {},
   "outputs": [
    {
     "data": {
      "text/plain": [
       "10000×8 Matrix{Float64}:\n",
       "  0.0574226    0.0335883  0.168124    …  -0.0183215   -0.00640398\n",
       " -0.020569    -0.0220066  0.0639414      -0.0232601    0.0166911\n",
       "  0.0698219    0.0591938  0.04715         0.0264266    0.0169535\n",
       "  0.0102428    0.113952   0.052645       -0.0243514   -0.0523726\n",
       " -0.0171983    0.0461375  0.0643485      -0.0215266    0.00160292\n",
       "  0.00622201   0.0930191  0.0300492   …  -0.0665092    0.0348673\n",
       "  0.0687899   -0.0406231  0.0465296      -0.0289802    0.0822492\n",
       "  0.0226579    0.116673   0.0361669       0.0381087    0.0411748\n",
       "  0.0471813    0.0209458  0.0320813       0.0184561   -0.0157252\n",
       "  0.0543028    0.0917352  0.00200951      0.0131739   -0.0588187\n",
       "  ⋮                                   ⋱               \n",
       "  0.0818182    0.0260692  0.0833563      -0.0224092   -0.0548706\n",
       "  0.0331751   -0.0267028  0.10099        -0.0313692    0.0153552\n",
       "  0.017132     0.0671928  0.050697       -0.034256    -0.0240901\n",
       "  0.0199469    0.0447889  0.0851107      -0.040453    -0.00887618\n",
       " -0.0369073    0.114658   0.149406    …  -0.0108892   -0.0297976\n",
       "  0.0113866    0.0393416  0.111425       -0.00958022  -0.0187332\n",
       "  0.0745305    0.10757    0.0772908      -0.0342522   -0.070288\n",
       " -0.0135015    0.0771395  0.0972614      -0.0230321   -0.00418993\n",
       "  0.0314942    0.0792867  0.0724455       0.0121931    0.0616804"
      ]
     },
     "metadata": {},
     "output_type": "display_data"
    }
   ],
   "source": [
    "using CSV\n",
    "using DataFrames\n",
    "\n",
    "# Load the CSV file into a DataFrame\n",
    "df = CSV.read(\"simulations_data.csv\", DataFrame)\n",
    "\n",
    "# Convert the DataFrame to a matrix\n",
    "matrix_data = Matrix(df)\n"
   ]
  },
  {
   "cell_type": "code",
   "execution_count": 3,
   "metadata": {},
   "outputs": [
    {
     "ename": "UndefVarError",
     "evalue": "UndefVarError: `spdiagm` not defined",
     "output_type": "error",
     "traceback": [
      "UndefVarError: `spdiagm` not defined\n",
      "\n",
      "Stacktrace:\n",
      " [1] get_constraint_matrix_min_cvar(simulations::Matrix{Float64}, alpha::Float64; short::Bool)\n",
      "   @ Main.CVaR_functions c:\\Users\\basti\\Coding\\Finance-Fun\\General Modules\\CVaR_functions.jl:120\n",
      " [2] get_constraint_matrix_min_cvar\n",
      "   @ c:\\Users\\basti\\Coding\\Finance-Fun\\General Modules\\CVaR_functions.jl:102 [inlined]\n",
      " [3] update_portfolio_weights_2(old_weights::Vector{Float64}, scenario::Matrix{Float64}, risk::Float64, return_::Int64, short_::Bool, trading_costs_::Float64, alpha_::Float64)\n",
      "   @ Main.CVaR_functions c:\\Users\\basti\\Coding\\Finance-Fun\\General Modules\\CVaR_functions.jl:334\n",
      " [4] update_portfolio_weights_2(old_weights::Vector{Float64}, scenario::Matrix{Float64}, risk::Float64, return_::Int64, short_::Bool, trading_costs_::Float64)\n",
      "   @ Main.CVaR_functions c:\\Users\\basti\\Coding\\Finance-Fun\\General Modules\\CVaR_functions.jl:313\n",
      " [5] top-level scope\n",
      "   @ c:\\Users\\basti\\Coding\\Finance-Fun\\General Modules\\test.ipynb:2"
     ]
    }
   ],
   "source": [
    "current_weights = vcat(zeros(5),[0.4,0.6],zeros(9))\n",
    "new_weights, updates  = update_portfolio_weights_2(current_weights,-matrix_data[1:10000,1:8],0.01,9999,true,0.05)\n"
   ]
  },
  {
   "cell_type": "code",
   "execution_count": null,
   "metadata": {},
   "outputs": [],
   "source": [
    "typeof(get_constraint_matrix_min_cvar(-matrix_data[1:10000,1:8], 0.9, short=true))"
   ]
  },
  {
   "cell_type": "code",
   "execution_count": null,
   "metadata": {},
   "outputs": [],
   "source": [
    "using HTTP\n",
    "using JSON\n",
    "using Dates\n",
    "using DataFrames\n",
    "\n",
    "function download_stock_data(tickers::Vector{String}, api_key::String)\n",
    "    base_url = \"https://www.alphavantage.co/query\"\n",
    "    \n",
    "    function fetch_data(ticker)\n",
    "        url = \"$base_url?function=TIME_SERIES_DAILY_ADJUSTED&symbol=$ticker&apikey=$api_key\"\n",
    "        response = HTTP.get(url)\n",
    "        if response.status != 200\n",
    "            println(\"Error fetching data for $ticker: $(response.status)\")\n",
    "            return nothing\n",
    "        end\n",
    "        return JSON.parse(String(response.body))\n",
    "    end\n",
    "\n",
    "    data = Dict{Any, Any}()\n",
    "    for ticker in tickers\n",
    "        println(\"Fetching data for $ticker...\")\n",
    "        stock_data = fetch_data(ticker)\n",
    "        if stock_data != nothing && haskey(stock_data, \"Time Series (Daily)\") \n",
    "            data[ticker] = stock_data[\"Time Series (Daily)\"]\n",
    "        end\n",
    "    end\n",
    "\n",
    "    return data\n",
    "end\n",
    "\n",
    "function create_dataframe(stock_data::Dict{Any, Any})\n",
    "    df_list = []\n",
    "    \n",
    "    for (ticker, daily_data) in stock_data\n",
    "        dates = Date[]\n",
    "        adj_closes = Float64[]\n",
    "        \n",
    "        for (date_str, price_data) in daily_data\n",
    "            date = Date(date_str, \"yyyy-mm-dd\")\n",
    "            adj_close = parse(Float64, price_data[\"5. adjusted close\"])\n",
    "            push!(dates, date)\n",
    "            push!(adj_closes, adj_close)\n",
    "        end\n",
    "        \n",
    "        df = DataFrame(Date=dates, Adjusted_Close=adj_closes)\n",
    "        df.Ticker = ticker\n",
    "        push!(df_list, df)\n",
    "    end\n",
    "    \n",
    "    combined_df = vcat(df_list)\n",
    "    return combined_df\n",
    "end\n",
    "\n",
    "# Example usage:\n",
    "tickers = [\"AAPL\", \"GOOGL\", \"MSFT\"]\n",
    "api_key = \"VWLXYQW5UFLW7OQX\"\n",
    "stock_data = download_stock_data(tickers, api_key)\n",
    "df = create_dataframe(stock_data)\n",
    "println(df)\n"
   ]
  },
  {
   "cell_type": "code",
   "execution_count": null,
   "metadata": {},
   "outputs": [],
   "source": [
    "AlphaVantage.GLOBAL[]"
   ]
  },
  {
   "cell_type": "code",
   "execution_count": null,
   "metadata": {},
   "outputs": [],
   "source": [
    "ENV[\"ALPHA_VANTAGE_API_KEY\"] = \"VWLXYQW5UFLW7OQX\"\n",
    "\n",
    "\n",
    "using AlphaVantage\n",
    "using DataFrames, StatsPlots, Dates\n"
   ]
  },
  {
   "cell_type": "code",
   "execution_count": null,
   "metadata": {},
   "outputs": [],
   "source": [
    "using DataFramesMeta\n",
    "using Plots"
   ]
  },
  {
   "cell_type": "code",
   "execution_count": null,
   "metadata": {},
   "outputs": [],
   "source": [
    "function raw_to_dataframe(rawData)\n",
    "    df = DataFrame(rawData[1],:auto)\n",
    "    dfNames = Symbol.(vcat(rawData[2]...))\n",
    "    df = rename(df, dfNames)\n",
    "    println(df)\n",
    "    df.Date = Date.(df.timestamp)\n",
    "    for x in (:open, :high, :low, :close, :adjusted_close, :dividend_amount)\n",
    "        df[!, x] = Float64.(df[!, x])\n",
    "    end \n",
    "    df.volume = Int64.(df.volume)\n",
    "    return df\n",
    "end\n",
    "\n",
    "function intra_to_dataframe(rawData)\n",
    "    df = DataFrame(rawData[1],:auto)\n",
    "    dfNames = Symbol.(vcat(rawData[2]...))\n",
    "    df = rename(df, dfNames)\n",
    "\n",
    "    df.DateTime = DateTime.(df.timestamp, \"yyyy-mm-dd HH:MM:SS\")\n",
    "    for x in (:open, :high, :low, :close)\n",
    "        df[!, x] = Float64.(df[!, x])\n",
    "    end \n",
    "    df.volume = Int64.(df.volume)\n",
    "    return df\n",
    "end"
   ]
  },
  {
   "cell_type": "code",
   "execution_count": null,
   "metadata": {},
   "outputs": [],
   "source": [
    "tslaRaw = AlphaVantage.time_series_daily_adjusted(\"TSLA\", outputsize=\"full\", datatype=\"csv\")\n",
    "tsla = raw_to_dataframe(tslaRaw);\n",
    "first(tsla, 5)\n"
   ]
  }
 ],
 "metadata": {
  "kernelspec": {
   "display_name": "Julia 1.10.4",
   "language": "julia",
   "name": "julia-1.10"
  },
  "language_info": {
   "file_extension": ".jl",
   "mimetype": "application/julia",
   "name": "julia",
   "version": "1.10.4"
  }
 },
 "nbformat": 4,
 "nbformat_minor": 2
}
