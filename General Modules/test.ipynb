{
 "cells": [
  {
   "cell_type": "code",
   "execution_count": 1,
   "metadata": {},
   "outputs": [],
   "source": [
    "include(\"CVaR_functions.jl\")\n",
    "using .CVaR_functions\n",
    "using LinearAlgebra\n",
    "using Statistics\n",
    "using SparseArrays"
   ]
  },
  {
   "cell_type": "code",
   "execution_count": 3,
   "metadata": {},
   "outputs": [
    {
     "data": {
      "text/plain": [
       "10000×8 Matrix{Float64}:\n",
       "  0.0574226    0.0335883  0.168124    …  -0.0183215   -0.00640398\n",
       " -0.020569    -0.0220066  0.0639414      -0.0232601    0.0166911\n",
       "  0.0698219    0.0591938  0.04715         0.0264266    0.0169535\n",
       "  0.0102428    0.113952   0.052645       -0.0243514   -0.0523726\n",
       " -0.0171983    0.0461375  0.0643485      -0.0215266    0.00160292\n",
       "  0.00622201   0.0930191  0.0300492   …  -0.0665092    0.0348673\n",
       "  0.0687899   -0.0406231  0.0465296      -0.0289802    0.0822492\n",
       "  0.0226579    0.116673   0.0361669       0.0381087    0.0411748\n",
       "  0.0471813    0.0209458  0.0320813       0.0184561   -0.0157252\n",
       "  0.0543028    0.0917352  0.00200951      0.0131739   -0.0588187\n",
       "  ⋮                                   ⋱               \n",
       "  0.0818182    0.0260692  0.0833563      -0.0224092   -0.0548706\n",
       "  0.0331751   -0.0267028  0.10099        -0.0313692    0.0153552\n",
       "  0.017132     0.0671928  0.050697       -0.034256    -0.0240901\n",
       "  0.0199469    0.0447889  0.0851107      -0.040453    -0.00887618\n",
       " -0.0369073    0.114658   0.149406    …  -0.0108892   -0.0297976\n",
       "  0.0113866    0.0393416  0.111425       -0.00958022  -0.0187332\n",
       "  0.0745305    0.10757    0.0772908      -0.0342522   -0.070288\n",
       " -0.0135015    0.0771395  0.0972614      -0.0230321   -0.00418993\n",
       "  0.0314942    0.0792867  0.0724455       0.0121931    0.0616804"
      ]
     },
     "metadata": {},
     "output_type": "display_data"
    }
   ],
   "source": [
    "using CSV\n",
    "using DataFrames\n",
    "\n",
    "# Load the CSV file into a DataFrame\n",
    "df = CSV.read(\"simulations_data.csv\", DataFrame)\n",
    "\n",
    "# Convert the DataFrame to a matrix\n",
    "matrix_data = Matrix(df)\n"
   ]
  },
  {
   "cell_type": "code",
   "execution_count": 14,
   "metadata": {},
   "outputs": [
    {
     "name": "stdout",
     "output_type": "stream",
     "text": [
      "weights_new minus costs must sum to\n",
      "0.0\n"
     ]
    },
    {
     "data": {
      "text/plain": [
       "([0.0, 0.0, 0.14448069703621685, 0.0, 0.0, 0.0, 0.0, 0.0, 0.0, 0.0  …  0.0, 0.0, 0.0, 0.0, 0.0, 0.0, 0.0, 0.0, 0.0, 0.0], [-0.1074226382805037 -0.08358830310501511 … 0.0 0.0; -0.0294309721252653 -0.0279933893458635 … 0.0 0.0; … ; 0.04145210553579541 0.05354265665220357 … 0.0 0.0; 1.05 1.05 … 0.0 0.0], [-0.008930887293219704, -0.005435049836597362, -0.03643155107974022, -0.046613528659587365, -0.006955384378190941, 0.019618828686148317, 0.013193564206467761, -0.00376426862310876, -0.03732486085246048, 0.11269181102510016  …  -0.013641815330498085, -0.03706492125311697, 0.04155338861558992, -0.06498095125363534, -0.0008726359906964564, -0.011522029220362141, 0.01833097715466066, -0.03786202855787298, 0.01, 0.0])"
      ]
     },
     "metadata": {},
     "output_type": "display_data"
    }
   ],
   "source": [
    "current_weights = vcat(zeros(5),[0.4,0.6],zeros(9))\n",
    "new_weights, updates  = update_portfolio_weights_2(current_weights,-matrix_data[1:10000,1:8],0.01,9999,true,0.05)\n"
   ]
  },
  {
   "cell_type": "code",
   "execution_count": 25,
   "metadata": {},
   "outputs": [
    {
     "name": "stdout",
     "output_type": "stream",
     "text": [
      "Fetching data for AAPL...\n",
      "Fetching data for GOOGL...\n",
      "Fetching data for MSFT...\n",
      "Any[]\n"
     ]
    }
   ],
   "source": [
    "using HTTP\n",
    "using JSON\n",
    "using Dates\n",
    "using DataFrames\n",
    "\n",
    "function download_stock_data(tickers::Vector{String}, api_key::String)\n",
    "    base_url = \"https://www.alphavantage.co/query\"\n",
    "    \n",
    "    function fetch_data(ticker)\n",
    "        url = \"$base_url?function=TIME_SERIES_DAILY_ADJUSTED&symbol=$ticker&apikey=$api_key\"\n",
    "        response = HTTP.get(url)\n",
    "        if response.status != 200\n",
    "            println(\"Error fetching data for $ticker: $(response.status)\")\n",
    "            return nothing\n",
    "        end\n",
    "        return JSON.parse(String(response.body))\n",
    "    end\n",
    "\n",
    "    data = Dict{Any, Any}()\n",
    "    for ticker in tickers\n",
    "        println(\"Fetching data for $ticker...\")\n",
    "        stock_data = fetch_data(ticker)\n",
    "        if stock_data != nothing && haskey(stock_data, \"Time Series (Daily)\") \n",
    "            data[ticker] = stock_data[\"Time Series (Daily)\"]\n",
    "        end\n",
    "    end\n",
    "\n",
    "    return data\n",
    "end\n",
    "\n",
    "function create_dataframe(stock_data::Dict{Any, Any})\n",
    "    df_list = []\n",
    "    \n",
    "    for (ticker, daily_data) in stock_data\n",
    "        dates = Date[]\n",
    "        adj_closes = Float64[]\n",
    "        \n",
    "        for (date_str, price_data) in daily_data\n",
    "            date = Date(date_str, \"yyyy-mm-dd\")\n",
    "            adj_close = parse(Float64, price_data[\"5. adjusted close\"])\n",
    "            push!(dates, date)\n",
    "            push!(adj_closes, adj_close)\n",
    "        end\n",
    "        \n",
    "        df = DataFrame(Date=dates, Adjusted_Close=adj_closes)\n",
    "        df.Ticker = ticker\n",
    "        push!(df_list, df)\n",
    "    end\n",
    "    \n",
    "    combined_df = vcat(df_list)\n",
    "    return combined_df\n",
    "end\n",
    "\n",
    "# Example usage:\n",
    "tickers = [\"AAPL\", \"GOOGL\", \"MSFT\"]\n",
    "api_key = \"VWLXYQW5UFLW7OQX\"\n",
    "stock_data = download_stock_data(tickers, api_key)\n",
    "df = create_dataframe(stock_data)\n",
    "println(df)\n"
   ]
  },
  {
   "cell_type": "code",
   "execution_count": 31,
   "metadata": {},
   "outputs": [
    {
     "ename": "UndefVarError",
     "evalue": "UndefVarError: `GLOBAL` not defined",
     "output_type": "error",
     "traceback": [
      "UndefVarError: `GLOBAL` not defined\n",
      "\n",
      "Stacktrace:\n",
      " [1] getproperty(x::Module, f::Symbol)\n",
      "   @ Base .\\Base.jl:31\n",
      " [2] top-level scope\n",
      "   @ c:\\Users\\basti\\Coding\\Finance-Fun\\General Modules\\test.ipynb:1"
     ]
    }
   ],
   "source": [
    "AlphaVantage.GLOBAL[]"
   ]
  },
  {
   "cell_type": "code",
   "execution_count": 43,
   "metadata": {},
   "outputs": [
    {
     "ename": "ArgumentError",
     "evalue": "ArgumentError: column name :timestamp not found in the data frame",
     "output_type": "error",
     "traceback": [
      "ArgumentError: column name :timestamp not found in the data frame\n",
      "\n",
      "Stacktrace:\n",
      " [1] lookupname\n",
      "   @ C:\\Users\\basti\\.julia\\packages\\DataFrames\\58MUJ\\src\\other\\index.jl:413 [inlined]\n",
      " [2] getindex\n",
      "   @ C:\\Users\\basti\\.julia\\packages\\DataFrames\\58MUJ\\src\\other\\index.jl:422 [inlined]\n",
      " [3] getindex(df::DataFrame, ::typeof(!), col_ind::Symbol)\n",
      "   @ DataFrames C:\\Users\\basti\\.julia\\packages\\DataFrames\\58MUJ\\src\\dataframe\\dataframe.jl:557\n",
      " [4] top-level scope\n",
      "   @ c:\\Users\\basti\\Coding\\Finance-Fun\\General Modules\\test.ipynb:12"
     ]
    }
   ],
   "source": [
    "ENV[\"ALPHA_VANTAGE_API_KEY\"] = \"VWLXYQW5UFLW7OQX\"\n",
    "\n",
    "\n",
    "using AlphaVantage\n",
    "using DataFrames, StatsPlots, Dates\n"
   ]
  },
  {
   "cell_type": "code",
   "execution_count": 56,
   "metadata": {},
   "outputs": [
    {
     "name": "stderr",
     "output_type": "stream",
     "text": [
      "WARNING: using Plots.spy in module Main conflicts with an existing identifier.\n"
     ]
    }
   ],
   "source": [
    "using DataFramesMeta\n",
    "using Plots"
   ]
  },
  {
   "cell_type": "code",
   "execution_count": 61,
   "metadata": {},
   "outputs": [
    {
     "data": {
      "text/plain": [
       "intra_to_dataframe (generic function with 1 method)"
      ]
     },
     "metadata": {},
     "output_type": "display_data"
    }
   ],
   "source": [
    "function raw_to_dataframe(rawData)\n",
    "    df = DataFrame(rawData[1],:auto)\n",
    "    dfNames = Symbol.(vcat(rawData[2]...))\n",
    "    df = rename(df, dfNames)\n",
    "    println(df)\n",
    "    df.Date = Date.(df.timestamp)\n",
    "    for x in (:open, :high, :low, :close, :adjusted_close, :dividend_amount)\n",
    "        df[!, x] = Float64.(df[!, x])\n",
    "    end \n",
    "    df.volume = Int64.(df.volume)\n",
    "    return df\n",
    "end\n",
    "\n",
    "function intra_to_dataframe(rawData)\n",
    "    df = DataFrame(rawData[1],:auto)\n",
    "    dfNames = Symbol.(vcat(rawData[2]...))\n",
    "    df = rename(df, dfNames)\n",
    "\n",
    "    df.DateTime = DateTime.(df.timestamp, \"yyyy-mm-dd HH:MM:SS\")\n",
    "    for x in (:open, :high, :low, :close)\n",
    "        df[!, x] = Float64.(df[!, x])\n",
    "    end \n",
    "    df.volume = Int64.(df.volume)\n",
    "    return df\n",
    "end"
   ]
  },
  {
   "cell_type": "code",
   "execution_count": 62,
   "metadata": {},
   "outputs": [
    {
     "name": "stdout",
     "output_type": "stream",
     "text": [
      "\u001b[1m2×1 DataFrame\u001b[0m\n",
      "\u001b[1m Row \u001b[0m│\u001b[1m {                                 \u001b[0m\n",
      "     │\u001b[90m Any                               \u001b[0m\n",
      "─────┼───────────────────────────────────\n",
      "   1 │     \"Information\": \"Thank you fo…\n",
      "   2 │ }\n"
     ]
    },
    {
     "ename": "ArgumentError",
     "evalue": "ArgumentError: column name :timestamp not found in the data frame",
     "output_type": "error",
     "traceback": [
      "ArgumentError: column name :timestamp not found in the data frame\n",
      "\n",
      "Stacktrace:\n",
      " [1] lookupname\n",
      "   @ C:\\Users\\basti\\.julia\\packages\\DataFrames\\58MUJ\\src\\other\\index.jl:413 [inlined]\n",
      " [2] getindex\n",
      "   @ C:\\Users\\basti\\.julia\\packages\\DataFrames\\58MUJ\\src\\other\\index.jl:422 [inlined]\n",
      " [3] getindex(df::DataFrame, ::typeof(!), col_ind::Symbol)\n",
      "   @ DataFrames C:\\Users\\basti\\.julia\\packages\\DataFrames\\58MUJ\\src\\dataframe\\dataframe.jl:557\n",
      " [4] getproperty(df::DataFrame, col_ind::Symbol)\n",
      "   @ DataFrames C:\\Users\\basti\\.julia\\packages\\DataFrames\\58MUJ\\src\\abstractdataframe\\abstractdataframe.jl:431\n",
      " [5] raw_to_dataframe(rawData::Tuple{Matrix{Any}, Matrix{AbstractString}})\n",
      "   @ Main c:\\Users\\basti\\Coding\\Finance-Fun\\General Modules\\test.ipynb:6\n",
      " [6] top-level scope\n",
      "   @ c:\\Users\\basti\\Coding\\Finance-Fun\\General Modules\\test.ipynb:1"
     ]
    }
   ],
   "source": [
    "tslaRaw = AlphaVantage.time_series_daily_adjusted(\"TSLA\", outputsize=\"full\", datatype=\"csv\")\n",
    "tsla = raw_to_dataframe(tslaRaw);\n",
    "first(tsla, 5)\n"
   ]
  }
 ],
 "metadata": {
  "kernelspec": {
   "display_name": "Julia 1.10.4",
   "language": "julia",
   "name": "julia-1.10"
  },
  "language_info": {
   "file_extension": ".jl",
   "mimetype": "application/julia",
   "name": "julia",
   "version": "1.10.4"
  }
 },
 "nbformat": 4,
 "nbformat_minor": 2
}
